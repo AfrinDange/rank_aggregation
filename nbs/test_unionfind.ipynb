{
 "cells": [
  {
   "cell_type": "code",
   "execution_count": null,
   "id": "0ff10ebe",
   "metadata": {},
   "outputs": [],
   "source": [
    "import pandas as pd \n",
    "import numpy as np \n",
    "\n",
    "from datasets import load_dataset"
   ]
  },
  {
   "cell_type": "code",
   "execution_count": null,
   "id": "83955c39",
   "metadata": {},
   "outputs": [],
   "source": [
    "class UnionFind:\n",
    "    def __init__(self, elements):\n",
    "        # Initialize each element as its own parent\n",
    "        self.parent = {element: element for element in elements}\n",
    "        self.rank = {element: 0 for element in elements}\n",
    "    \n",
    "    def find(self, x):\n",
    "        # Find the representative/parent of the set containing x\n",
    "        if self.parent[x] != x:\n",
    "            # Path compression for efficiency\n",
    "            self.parent[x] = self.find(self.parent[x])\n",
    "        return self.parent[x]\n",
    "    \n",
    "    def union(self, x, y):\n",
    "        # Union the sets containing x and y\n",
    "        root_x = self.find(x)\n",
    "        root_y = self.find(y)\n",
    "        \n",
    "        if root_x == root_y:\n",
    "            return  # Already in the same set\n",
    "        \n",
    "        # Union by rank for efficiency\n",
    "        if self.rank[root_x] < self.rank[root_y]:\n",
    "            self.parent[root_x] = root_y\n",
    "        elif self.rank[root_x] > self.rank[root_y]:\n",
    "            self.parent[root_y] = root_x\n",
    "        else:\n",
    "            self.parent[root_y] = root_x\n",
    "            self.rank[root_x] += 1\n",
    "\n",
    "def partition_data(pairs):\n",
    "    # Extract all unique elements\n",
    "    unique_elements = set()\n",
    "    for x, y in pairs:\n",
    "        unique_elements.add(x)\n",
    "        unique_elements.add(y)\n",
    "    \n",
    "    # Initialize Union-Find\n",
    "    uf = UnionFind(unique_elements)\n",
    "    \n",
    "    # Union pairs\n",
    "    for x, y in pairs:\n",
    "        uf.union(x, y)\n",
    "    \n",
    "    # Group pairs by their representative\n",
    "    partitions = {}\n",
    "    for x, y in pairs:\n",
    "        rep = uf.find(x)  # Could also use uf.find(y), they should be the same\n",
    "        if rep not in partitions:\n",
    "            partitions[rep] = []\n",
    "        partitions[rep].append((x, y))\n",
    "    \n",
    "    return list(partitions.values())\n"
   ]
  },
  {
   "cell_type": "code",
   "execution_count": null,
   "id": "66e65d32",
   "metadata": {},
   "outputs": [],
   "source": [
    "dataset_name = \"icc-test-championship-rankings-2023-2025-cycle\"\n",
    "dataset = load_dataset(\"konan-kun/\" + dataset_name)\n",
    "df = dataset['train'].to_pandas()"
   ]
  },
  {
   "cell_type": "code",
   "execution_count": null,
   "id": "a66cd606",
   "metadata": {},
   "outputs": [],
   "source": [
    "preference_data = []\n",
    "matchday_dict = {}\n",
    "unique_matches = []\n",
    "team_dict = {0: 'South Africa', 1: 'Australia', 2: 'India', 3: 'New Zealand', 4: 'England', 5: 'Sri Lanka', 6: 'Bangladesh', 7: 'West Indies', 8: 'Pakistan'}\n",
    "for idx, team_matches in enumerate(df['Matches']):\n",
    "    for mat in team_matches:\n",
    "        matchday = ' '.join(mat.split(',')[0].split(' ')[1:]) + mat.split(',')[1]\n",
    "        if matchday in matchday_dict.keys():\n",
    "            continue\n",
    "        unique_matches.append(mat)\n",
    "        match_status = mat.split(' ')[0]\n",
    "        opponent = None\n",
    "        if match_status == 'D':\n",
    "            opponent = mat.split('vs')[-1].split('Match drawn')[0].strip()\n",
    "        elif mat.replace(team_dict[idx], '_').count('_') == 2:\n",
    "            opponent = mat.replace(team_dict[idx], '_').split('vs')[-1].split('_')[0].strip()\n",
    "        else:\n",
    "            if len(mat.split('vs')[-1].split('won')[0].strip().split(' ')) == 2:\n",
    "                opponent = mat.split('vs')[-1].split('won')[0].strip().split(' ')[0].strip()\n",
    "            else:\n",
    "                opponent = ' '.join(mat.split('vs')[-1].split('won')[0].strip().split(' ')[:2])\n",
    "        matchday_dict[matchday] = (team_dict[idx], opponent, match_status)"
   ]
  },
  {
   "cell_type": "code",
   "execution_count": null,
   "id": "8fd3cf9f",
   "metadata": {},
   "outputs": [],
   "source": [
    "team = [\"South Africa\", \"India\", \"Newzealand\", \"Sri Lanka\", \"England\", \"Australia\"]\n",
    "for key, value in matchday_dict.items():\n",
    "    if value[0] in team and value[1] in team:\n",
    "        preference_data.append(value)"
   ]
  },
  {
   "cell_type": "code",
   "execution_count": null,
   "id": "9d2baa63",
   "metadata": {},
   "outputs": [],
   "source": [
    "gold_rankings = df['Team'].tolist()\n",
    "gold_rankings"
   ]
  },
  {
   "cell_type": "code",
   "execution_count": null,
   "id": "8ad77a7b",
   "metadata": {},
   "outputs": [],
   "source": [
    "preference_data"
   ]
  },
  {
   "cell_type": "code",
   "execution_count": null,
   "id": "dcf14751",
   "metadata": {},
   "outputs": [],
   "source": [
    "llm_preference_data = [mat.split(',')[-1].split('by')[0].strip() for mat in unique_matches]\n",
    "import random \n",
    "random.shuffle(llm_preference_data)\n",
    "user_text = '\\n'.join(llm_preference_data)"
   ]
  },
  {
   "cell_type": "code",
   "execution_count": null,
   "id": "7b373287",
   "metadata": {},
   "outputs": [],
   "source": [
    "print(user_text)"
   ]
  },
  {
   "cell_type": "code",
   "execution_count": null,
   "id": "d1501cd7",
   "metadata": {},
   "outputs": [],
   "source": [
    "import json \n",
    "import sys \n",
    "sys.path.append(\"../\")\n",
    "from utils import process_nfl_dataset\n",
    "season = 2018\n",
    "dataset = pd.read_csv(\"../data/nfl_mahomes_era_games.csv\")\n",
    "names = json.load(open(\"../data/names.json\", \"r\"))\n",
    "dataset[\"home_team\"] = dataset[\"home_team\"].map(names)\n",
    "dataset[\"away_team\"] = dataset[\"away_team\"].map(names)\n",
    "\n",
    "preference_data, team_identifier, _ = process_nfl_dataset(dataset, season)\n",
    "# names = json.load(open(\"./data/names.json\", \"r\"))\n",
    "# gold_rankings = [names[id] for id in json.load(open(\"./data/ranks.json\", \"r\"))[str(season)]]\n",
    "gold_rankings = json.load(open(\"../data/ranks.json\", \"r\"))[str(season)]\n",
    "llm_preference_data = [f\"{tup[0]} vs {tup[1]}, {tup[int(tup[2] == 'L')] + ' won' if tup[2] != 'D' else 'Match Drawn'}\" for tup in preference_data]       \n",
    "random.shuffle(llm_preference_data)\n",
    "formatted_preference_data = '\\n'.join(llm_preference_data)"
   ]
  },
  {
   "cell_type": "code",
   "execution_count": null,
   "id": "5d590185",
   "metadata": {},
   "outputs": [],
   "source": [
    "print(formatted_preference_data)"
   ]
  },
  {
   "cell_type": "code",
   "execution_count": 74,
   "id": "d27f7e05",
   "metadata": {},
   "outputs": [],
   "source": [
    "teams = {\n",
    "  \"top\": [\"Los Angeles Rams\", \"New Orleans Saints\", \"Dallas Cowboys\", \"New England Patriots\", \"Los Angeles Chargers\", \"Houston Texans\", \"Kansas City Chiefs\", \"Chicago Bears\", \"Minnesota Vikings\", \"Baltimore Ravens\", \"Seattle Seahawks\", \"Washington Commanders\", \"Tennessee Titans\", \"New York Giants\"],\n",
    "  \"bottom\": [\"Green Bay Packers\", \"Miami Dolphins\", \"Philadelphia Eagles\", \"Indianapolis Colts\", \"Cleveland Browns\", \"Carolina Panthers\", \"Detroit Lions\", \"San Francisco 49ers\", \"Jacksonville Jaguars\", \"Las Vegas Raiders\", \"Buffalo Bills\", \"Denver Broncos\", \"Tampa Bay Buccaneers\", \"New York Jets\", \"Arizona Cardinals\", \"Cincinnati Bengals\"]\n",
    "}\n",
    "\n",
    "\n",
    "# {\n",
    "# \"top\": [\"Los Angeles Rams\", \"New Orleans Saints\", \"New England Patriots\", \"Houston Texans\", \"Los Angeles Chargers\", \"Chicago Bears\", \"Dallas Cowboys\", \"Kansas City Chiefs\", \"Philadelphia Eagles\", \"New York Giants\", \"Seattle Seahawks\", \"Indianapolis Colts\", \"Miami Dolphins\", \"Minnesota Vikings\", \"Tennessee Titans\", \"Washington Commanders\"],\n",
    "# \"bottom\": [\"Green Bay Packers\", \"Baltimore Ravens\", \"Cincinnati Bengals\", \"New York Jets\", \"Pittsburgh Steelers\", \"Carolina Panthers\", \"Cleveland Browns\", \"Atlanta Falcons\", \"Denver Broncos\", \"Buffalo Bills\", \"Las Vegas Raiders\", \"Tampa Bay Buccaneers\", \"Arizona Cardinals\", \"Detroit Lions\", \"Jacksonville Jaguars\", \"San Francisco 49ers\"]\n",
    "# }\n",
    "\n",
    "\n",
    "# {\n",
    "#   \"top\": [\"Los Angeles Rams\", \"New England Patriots\", \"New Orleans Saints\", \"Dallas Cowboys\", \"Kansas City Chiefs\", \"Houston Texans\", \"Los Angeles Chargers\", \"Philadelphia Eagles\", \"Baltimore Ravens\", \"Minnesota Vikings\", \"Seattle Seahawks\", \"Green Bay Packers\", \"Chicago Bears\", \"Tennessee Titans\", \"Buffalo Bills\", \"Washington Commanders\"],\n",
    "#   \"bottom\": [\"Detroit Lions\", \"Cleveland Browns\", \"Indianapolis Colts\", \"Arizona Cardinals\", \"Carolina Panthers\", \"New York Giants\", \"Tampa Bay Buccaneers\", \"Jacksonville Jaguars\", \"Las Vegas Raiders\", \"Miami Dolphins\", \"Denver Broncos\", \"New York Jets\", \"San Francisco 49ers\", \"Cincinnati Bengals\", \"Pittsburgh Steelers\", \"Atlanta Falcons\"]\n",
    "# }"
   ]
  },
  {
   "cell_type": "code",
   "execution_count": 76,
   "id": "99727348",
   "metadata": {},
   "outputs": [
    {
     "data": {
      "text/plain": [
       "(14, 16)"
      ]
     },
     "execution_count": 76,
     "metadata": {},
     "output_type": "execute_result"
    }
   ],
   "source": [
    "len(teams[\"top\"]), len(teams[\"bottom\"])"
   ]
  },
  {
   "cell_type": "code",
   "execution_count": 77,
   "id": "0e425a78",
   "metadata": {},
   "outputs": [
    {
     "name": "stdout",
     "output_type": "stream",
     "text": [
      "['Los Angeles Rams', 'New Orleans Saints', 'Dallas Cowboys', 'New England Patriots', 'Los Angeles Chargers', 'Houston Texans', 'Kansas City Chiefs', 'Chicago Bears', 'Minnesota Vikings', 'Baltimore Ravens', 'Seattle Seahawks', 'Washington Commanders', 'Tennessee Titans', 'New York Giants']\n"
     ]
    }
   ],
   "source": [
    "print(teams['top'])"
   ]
  },
  {
   "cell_type": "code",
   "execution_count": 78,
   "id": "190e02e1",
   "metadata": {},
   "outputs": [
    {
     "name": "stdout",
     "output_type": "stream",
     "text": [
      "Washington Commanders 20\n",
      "New York Giants 27\n"
     ]
    }
   ],
   "source": [
    "for team in teams['top']:\n",
    "    if team not in gold_rankings[:16]:\n",
    "        print(team, gold_rankings.index(team) + 1)"
   ]
  },
  {
   "cell_type": "code",
   "execution_count": 79,
   "id": "db521fa5",
   "metadata": {},
   "outputs": [
    {
     "name": "stdout",
     "output_type": "stream",
     "text": [
      "Philadelphia Eagles 13\n",
      "Indianapolis Colts 10\n",
      "Cleveland Browns 16\n"
     ]
    }
   ],
   "source": [
    "for team in teams['bottom']:\n",
    "    if team not in gold_rankings[16:]:\n",
    "        print(team, gold_rankings.index(team)+1)"
   ]
  },
  {
   "cell_type": "code",
   "execution_count": null,
   "id": "22e95fbe",
   "metadata": {},
   "outputs": [],
   "source": []
  },
  {
   "cell_type": "code",
   "execution_count": null,
   "id": "543d5e5c",
   "metadata": {},
   "outputs": [],
   "source": []
  }
 ],
 "metadata": {
  "kernelspec": {
   "display_name": "rank_agg",
   "language": "python",
   "name": "python3"
  },
  "language_info": {
   "codemirror_mode": {
    "name": "ipython",
    "version": 3
   },
   "file_extension": ".py",
   "mimetype": "text/x-python",
   "name": "python",
   "nbconvert_exporter": "python",
   "pygments_lexer": "ipython3",
   "version": "3.11.12"
  }
 },
 "nbformat": 4,
 "nbformat_minor": 5
}
