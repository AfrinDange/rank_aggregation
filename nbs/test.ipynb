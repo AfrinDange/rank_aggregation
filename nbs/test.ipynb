{
 "cells": [
  {
   "cell_type": "code",
   "execution_count": null,
   "id": "f29c378a",
   "metadata": {},
   "outputs": [],
   "source": [
    "import pandas as pd"
   ]
  },
  {
   "cell_type": "code",
   "execution_count": null,
   "id": "ade33c21",
   "metadata": {},
   "outputs": [],
   "source": [
    "data = pd.read_csv(\"./data/nfl_mahomes_era_games.csv\")"
   ]
  },
  {
   "cell_type": "code",
   "execution_count": null,
   "id": "7dc896e2",
   "metadata": {},
   "outputs": [],
   "source": [
    "data.columns"
   ]
  },
  {
   "cell_type": "code",
   "execution_count": null,
   "id": "ed60dbc1",
   "metadata": {},
   "outputs": [],
   "source": [
    "cv = data[['home_team', 'season']].value_counts().to_dict()\n",
    "\n",
    "{k:v for k, v in sorted(cv.items())}"
   ]
  },
  {
   "cell_type": "code",
   "execution_count": null,
   "id": "b4f7094b",
   "metadata": {},
   "outputs": [],
   "source": [
    "import json\n",
    "names = json.load(open(\"./data/names.json\", \"r\"))"
   ]
  },
  {
   "cell_type": "code",
   "execution_count": null,
   "id": "d96fb63d",
   "metadata": {},
   "outputs": [],
   "source": [
    "data[\"home_team\"].map(names)"
   ]
  },
  {
   "cell_type": "code",
   "execution_count": null,
   "id": "ab791ecf",
   "metadata": {},
   "outputs": [],
   "source": [
    "data['game_outcome'].unique()"
   ]
  },
  {
   "cell_type": "code",
   "execution_count": null,
   "id": "2a89798b",
   "metadata": {},
   "outputs": [],
   "source": [
    "from utils import process_nfl_dataset"
   ]
  },
  {
   "cell_type": "code",
   "execution_count": null,
   "id": "f84fd612",
   "metadata": {},
   "outputs": [],
   "source": [
    "season=2018\n",
    "dataset = pd.read_csv(\"./data/nfl_mahomes_era_games.csv\")\n",
    "preference_data, matchday_dict, unique_matches, team_dict, team_identifier, gold_rankings = process_nfl_dataset(dataset, season)"
   ]
  },
  {
   "cell_type": "code",
   "execution_count": null,
   "id": "6be96666",
   "metadata": {},
   "outputs": [],
   "source": [
    "preference_data"
   ]
  },
  {
   "cell_type": "code",
   "execution_count": 22,
   "id": "ad1badfe",
   "metadata": {},
   "outputs": [],
   "source": [
    "import json\n",
    "data = json.load(open(\"./data/ranks.json\", \"r\"))"
   ]
  },
  {
   "cell_type": "code",
   "execution_count": 24,
   "id": "b98163bc",
   "metadata": {},
   "outputs": [
    {
     "data": {
      "text/plain": [
       "29"
      ]
     },
     "execution_count": 24,
     "metadata": {},
     "output_type": "execute_result"
    }
   ],
   "source": [
    "len(data[\"2018\"])"
   ]
  }
 ],
 "metadata": {
  "kernelspec": {
   "display_name": "rank_agg",
   "language": "python",
   "name": "python3"
  },
  "language_info": {
   "codemirror_mode": {
    "name": "ipython",
    "version": 3
   },
   "file_extension": ".py",
   "mimetype": "text/x-python",
   "name": "python",
   "nbconvert_exporter": "python",
   "pygments_lexer": "ipython3",
   "version": "3.11.12"
  }
 },
 "nbformat": 4,
 "nbformat_minor": 5
}
