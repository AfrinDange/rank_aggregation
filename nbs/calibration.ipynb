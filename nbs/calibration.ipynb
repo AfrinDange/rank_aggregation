{
 "cells": [
  {
   "cell_type": "code",
   "execution_count": null,
   "id": "d3ac59f0",
   "metadata": {},
   "outputs": [],
   "source": [
    "import pandas as pd\n",
    "import json "
   ]
  },
  {
   "cell_type": "code",
   "execution_count": null,
   "id": "639f1c39",
   "metadata": {},
   "outputs": [],
   "source": [
    "data = pd.read_csv(\"../data/nfl_mahomes_era_games.csv\")\n",
    "team_names = json.load(open(\"../data/names.json\", \"r\"))"
   ]
  },
  {
   "cell_type": "code",
   "execution_count": null,
   "id": "dd6af5de",
   "metadata": {},
   "outputs": [],
   "source": [
    "data.head()"
   ]
  },
  {
   "cell_type": "code",
   "execution_count": null,
   "id": "61e43b13",
   "metadata": {},
   "outputs": [],
   "source": [
    "data['home_team'] = data['home_team'].map(lambda x: team_names[x])\n",
    "data['away_team'] = data['away_team'].map(lambda x: team_names[x])"
   ]
  },
  {
   "cell_type": "code",
   "execution_count": null,
   "id": "91a5274a",
   "metadata": {},
   "outputs": [],
   "source": [
    "teams = list(team_names.values())"
   ]
  },
  {
   "cell_type": "code",
   "execution_count": null,
   "id": "f1630499",
   "metadata": {},
   "outputs": [],
   "source": [
    "import itertools\n",
    "\n",
    "pairs = list(itertools.combinations(teams, 2))"
   ]
  },
  {
   "cell_type": "code",
   "execution_count": null,
   "id": "4007f098",
   "metadata": {},
   "outputs": [],
   "source": [
    "teamwise_data = {}\n",
    "for teamA, teamB in pairs:\n",
    "    counts = {\n",
    "        teamA: 0,\n",
    "        teamB: 0,\n",
    "        \"drawn\": 0\n",
    "    }\n",
    "    cond1 = (data['home_team'] == teamA) & (data['away_team'] == teamB)\n",
    "    cond2 = (data['home_team'] == teamB) & (data['away_team'] == teamA)\n",
    "    matches = data[cond1 | cond2]\n",
    "    outcomes = []\n",
    "    for tup in matches[['season', 'home_team', 'away_team', 'game_outcome']].itertuples():\n",
    "        if tup.game_outcome == 0.0:\n",
    "            counts[tup.away_team] += 1\n",
    "            outcomes.append((tup.season, f\"{tup.away_team} won\"))\n",
    "        elif tup.game_outcome == 1.0:\n",
    "            counts[tup.home_team] += 1\n",
    "            outcomes.append((tup.season, f\"{tup.home_team} won\"))\n",
    "        else:\n",
    "            counts[\"drawn\"] += 1\n",
    "            outcomes.append((tup.season, f\"Draw\"))\n",
    "            \n",
    "    teamwise_data[(teamA, teamB)] = {\n",
    "        \"matches_played\": matches.shape[0],\n",
    "        \"outcome\": outcomes,\n",
    "        \"counts\": counts\n",
    "    }\n",
    "    \n",
    "    # cond1 = (data['home_team'] == teamA) & (data['away_team'] != teamB)\n",
    "    # cond2 = (data['home_team'] == teamB) & (data['away_team'] != teamA)\n",
    "    # cond3 = (data['away_team'] == teamA) & (data['home_team'] != teamB)\n",
    "    # cond4 = (data['away_team'] == teamB) & (data['home_team'] != teamA)\n",
    "    # data[cond1 | cond2 | cond3 | cond]"
   ]
  },
  {
   "cell_type": "code",
   "execution_count": null,
   "id": "481c0802",
   "metadata": {},
   "outputs": [],
   "source": [
    "teamwise_data = sorted(\n",
    "    teamwise_data.items(),\n",
    "    key=lambda item: item[1]['matches_played'],\n",
    "    reverse=True\n",
    ")"
   ]
  },
  {
   "cell_type": "code",
   "execution_count": null,
   "id": "4dcd3345",
   "metadata": {},
   "outputs": [],
   "source": [
    "teamwise_data[0]"
   ]
  },
  {
   "cell_type": "code",
   "execution_count": null,
   "id": "f739d29d",
   "metadata": {},
   "outputs": [],
   "source": [
    "import os \n",
    "from dotenv import load_dotenv\n",
    "from google import genai\n",
    "from google.genai import types \n",
    "from tqdm import tqdm \n"
   ]
  },
  {
   "cell_type": "code",
   "execution_count": null,
   "id": "f7308fd7",
   "metadata": {},
   "outputs": [],
   "source": [
    "system_inst = '''You are a sports analyst. Your task is to estimate the probability (between 0 and 1) that TeamA will win against TeamB based on their previous match outcomes.\n",
    "    \n",
    "Output only a valid JSON object in the following format:\n",
    "    { \"probability\": <float between 0 and 1, rounded to at most 3 decimal places> }\n",
    "        \n",
    "Do not include any explanation, reasoning, or additional text.\n",
    "'''\n",
    "def prompt(formatted_preference_data):\n",
    "    load_dotenv()\n",
    "    google_api_key = os.getenv(\"GOOGLE_API_KEY\")\n",
    "    if google_api_key is None:\n",
    "        raise ValueError(\"GOOGLE_API_KEY not found in .env file\")\n",
    "\n",
    "    client = genai.Client(api_key=google_api_key)\n",
    "    model = \"gemini-2.0-flash\"\n",
    "\n",
    "    contents = [\n",
    "        types.Content(\n",
    "            role=\"user\",\n",
    "            parts=[types.Part.from_text(text=formatted_preference_data)],\n",
    "        )\n",
    "    ]\n",
    "\n",
    "    config = types.GenerateContentConfig(\n",
    "        temperature=0.0,\n",
    "        response_mime_type=\"application/json\",\n",
    "        system_instruction=[types.Part.from_text(text=system_inst)],\n",
    "    )\n",
    "\n",
    "    response_text = \"\"\n",
    "    for chunk in client.models.generate_content_stream(\n",
    "        model=model,\n",
    "        contents=contents,\n",
    "        config=config,\n",
    "    ):\n",
    "        response_text += chunk.text\n",
    "\n",
    "    try:\n",
    "        output = json.loads(response_text)\n",
    "        return output\n",
    "    except json.JSONDecodeError as e:\n",
    "        raise ValueError(f\"Failed to parse JSON response from model: {e}\")"
   ]
  },
  {
   "cell_type": "code",
   "execution_count": null,
   "id": "812fba62",
   "metadata": {},
   "outputs": [],
   "source": [
    "def create_usr_prompt(data, reverse=False):\n",
    "    teamA, teamB = data[0]\n",
    "    outcomes = data[1]['outcome'] # list (year, outcome)\n",
    "    \n",
    "    if reverse:\n",
    "        usr_prompt = f\"TeamA: {teamB}\\nTeamB: {teamA}\\nMatch History:\\n\"\n",
    "    else:\n",
    "        usr_prompt = f\"TeamA: {teamA}\\nTeamB: {teamB}\\nMatch History:\\n\"\n",
    "    for year, outcome in outcomes:\n",
    "        usr_prompt += f\"\\t- {year}: {outcome}.\\n\"\n",
    "        \n",
    "    return usr_prompt"
   ]
  },
  {
   "cell_type": "code",
   "execution_count": null,
   "id": "75d937fa",
   "metadata": {},
   "outputs": [],
   "source": [
    "# import time \n",
    "# from tqdm import tqdm\n",
    "# results = []\n",
    "# for td in tqdm(teamwise_data):\n",
    "#     teamA, teamB = td[0]\n",
    "#     if td[1]['matches_played'] >= 5:\n",
    "#         probA = prompt(create_usr_prompt(td))\n",
    "#         probB = prompt(create_usr_prompt(td, reverse=True))\n",
    "#         time.sleep(30)\n",
    "        \n",
    "#         estimate_probA = td[1]['counts'][teamA] / td[1]['matches_played']\n",
    "#         estimate_probB = td[1]['counts'][teamB] / td[1]['matches_played']\n",
    "        \n",
    "#         results.append((teamA, teamB, probA, probB, estimate_probA, estimate_probB))\n",
    "        "
   ]
  },
  {
   "cell_type": "code",
   "execution_count": null,
   "id": "791179d6",
   "metadata": {},
   "outputs": [],
   "source": [
    "import time\n",
    "import csv\n",
    "from tqdm import tqdm\n",
    "\n",
    "results_file = \"results.csv\"\n",
    "with open(results_file, mode='a', newline='') as f:\n",
    "    writer = csv.writer(f)\n",
    "\n",
    "    writer.writerow([\"TeamA\", \"TeamB\", \"LLM_ProbA\", \"LLM_ProbB\", \"Est_ProbA\", \"Est_ProbB\"])\n",
    "\n",
    "    for td in tqdm(teamwise_data):\n",
    "        teamA, teamB = td[0]\n",
    "        if td[1]['matches_played'] >= 5:\n",
    "            try:\n",
    "                probA = prompt(create_usr_prompt(td))\n",
    "                probB = prompt(create_usr_prompt(td, reverse=True))\n",
    "                time.sleep(30)\n",
    "                \n",
    "                probA = json.loads(probA)['probability']\n",
    "                probB = json.loads(probB)['probability']\n",
    "\n",
    "                estimate_probA = td[1]['counts'][teamA] / td[1]['matches_played']\n",
    "                estimate_probB = td[1]['counts'][teamB] / td[1]['matches_played']\n",
    "\n",
    "                writer.writerow([teamA, teamB, probA, probB, estimate_probA, estimate_probB])\n",
    "                f.flush()\n",
    "\n",
    "            except Exception as e:\n",
    "                print(f\"Error for {teamA} vs {teamB}: {e}\")"
   ]
  }
 ],
 "metadata": {
  "kernelspec": {
   "display_name": "rank_agg",
   "language": "python",
   "name": "python3"
  },
  "language_info": {
   "codemirror_mode": {
    "name": "ipython",
    "version": 3
   },
   "file_extension": ".py",
   "mimetype": "text/x-python",
   "name": "python",
   "nbconvert_exporter": "python",
   "pygments_lexer": "ipython3",
   "version": "3.11.12"
  }
 },
 "nbformat": 4,
 "nbformat_minor": 5
}
